{
 "cells": [
  {
   "cell_type": "markdown",
   "metadata": {},
   "source": [
    "# Fixed effects and Blei/Wang's deconfounder\n",
    "\n",
    "Can we use the approach described in [The Blessings of Multiple Causes](https://arxiv.org/abs/1805.06826) to work in the fixed effects set up."
   ]
  },
  {
   "cell_type": "code",
   "execution_count": 1,
   "metadata": {},
   "outputs": [],
   "source": [
    "import numpy as np\n",
    "import pandas as pd\n",
    "import statsmodels.formula.api as smf\n",
    "import seaborn as sns\n",
    "from sklearn.decomposition import PCA, FactorAnalysis"
   ]
  },
  {
   "cell_type": "markdown",
   "metadata": {},
   "source": [
    "### Set up data\n",
    "\n",
    "Find the impact of \"education level\" (observed) on income in the presence of unobserved bias (a person's ability). For each individual, we observe their education level and income for three years. Each person has an independent ability level that is time invariant. See page 246 of the [Causal Inference Mixtape](http://scunning.com/cunningham_mixtape.pdf) for a picture of the DAG."
   ]
  },
  {
   "cell_type": "code",
   "execution_count": 2,
   "metadata": {},
   "outputs": [],
   "source": [
    "np.random.seed(6429)\n",
    "n_people = 100\n",
    "n_years = 3\n",
    "people = pd.DataFrame.from_dict(\n",
    "    {\n",
    "        \"person\":np.arange(n_people),\n",
    "        \"ability\":np.random.poisson(lam=5, size=n_people),\n",
    "    }\n",
    ")\n",
    "people[\"person\"] = people[\"person\"].astype(\"category\")\n",
    "people[\"1990\"] = np.random.poisson(lam=(people[\"ability\"]), size=n_people)\n",
    "people[\"1991\"] = people[\"1990\"] + np.random.poisson(lam=(people[\"ability\"]), size=n_people)\n",
    "people[\"1992\"] = people[\"1991\"] + np.random.poisson(lam=(people[\"ability\"]), size=n_people)"
   ]
  },
  {
   "cell_type": "code",
   "execution_count": 3,
   "metadata": {},
   "outputs": [
    {
     "data": {
      "text/html": [
       "<div>\n",
       "<style scoped>\n",
       "    .dataframe tbody tr th:only-of-type {\n",
       "        vertical-align: middle;\n",
       "    }\n",
       "\n",
       "    .dataframe tbody tr th {\n",
       "        vertical-align: top;\n",
       "    }\n",
       "\n",
       "    .dataframe thead th {\n",
       "        text-align: right;\n",
       "    }\n",
       "</style>\n",
       "<table border=\"1\" class=\"dataframe\">\n",
       "  <thead>\n",
       "    <tr style=\"text-align: right;\">\n",
       "      <th></th>\n",
       "      <th>person</th>\n",
       "      <th>ability</th>\n",
       "      <th>1990</th>\n",
       "      <th>1991</th>\n",
       "      <th>1992</th>\n",
       "    </tr>\n",
       "  </thead>\n",
       "  <tbody>\n",
       "    <tr>\n",
       "      <th>0</th>\n",
       "      <td>0</td>\n",
       "      <td>3</td>\n",
       "      <td>5</td>\n",
       "      <td>9</td>\n",
       "      <td>13</td>\n",
       "    </tr>\n",
       "    <tr>\n",
       "      <th>1</th>\n",
       "      <td>1</td>\n",
       "      <td>3</td>\n",
       "      <td>3</td>\n",
       "      <td>5</td>\n",
       "      <td>5</td>\n",
       "    </tr>\n",
       "    <tr>\n",
       "      <th>2</th>\n",
       "      <td>2</td>\n",
       "      <td>3</td>\n",
       "      <td>4</td>\n",
       "      <td>7</td>\n",
       "      <td>12</td>\n",
       "    </tr>\n",
       "    <tr>\n",
       "      <th>3</th>\n",
       "      <td>3</td>\n",
       "      <td>5</td>\n",
       "      <td>6</td>\n",
       "      <td>10</td>\n",
       "      <td>14</td>\n",
       "    </tr>\n",
       "    <tr>\n",
       "      <th>4</th>\n",
       "      <td>4</td>\n",
       "      <td>3</td>\n",
       "      <td>1</td>\n",
       "      <td>7</td>\n",
       "      <td>10</td>\n",
       "    </tr>\n",
       "  </tbody>\n",
       "</table>\n",
       "</div>"
      ],
      "text/plain": [
       "  person  ability  1990  1991  1992\n",
       "0      0        3     5     9    13\n",
       "1      1        3     3     5     5\n",
       "2      2        3     4     7    12\n",
       "3      3        5     6    10    14\n",
       "4      4        3     1     7    10"
      ]
     },
     "execution_count": 3,
     "metadata": {},
     "output_type": "execute_result"
    }
   ],
   "source": [
    "people.head()"
   ]
  },
  {
   "cell_type": "markdown",
   "metadata": {},
   "source": [
    "### Factor analysis for the deconfounder\n",
    "\n",
    "In this set up, the multiple causes are the education levels for each person in each of the three years. Since I'm lazy, I assume that one hidden dimension is good enough since we know there is only one unobserved dimension."
   ]
  },
  {
   "cell_type": "code",
   "execution_count": 4,
   "metadata": {},
   "outputs": [],
   "source": [
    "X = people[[\"1990\", \"1991\", \"1992\"]]\n",
    "pca = PCA(n_components=1)\n",
    "factor = FactorAnalysis(n_components=1)\n",
    "people[\"pca\"] = pca.fit_transform(X)\n",
    "people[\"factor\"] = factor.fit_transform(X)\n",
    "people[\"noise\"] = np.random.normal(0, 1, n_people)"
   ]
  },
  {
   "cell_type": "markdown",
   "metadata": {},
   "source": [
    "Melt the data to get it into a format for fixed effects and add income (potentially with noise)"
   ]
  },
  {
   "cell_type": "code",
   "execution_count": 5,
   "metadata": {},
   "outputs": [],
   "source": [
    "noise_sd = 0\n",
    "people_melted = (people\n",
    "          .melt(id_vars=['person', 'ability', 'pca', 'noise', 'factor'])\n",
    "          .rename({\"variable\":\"year\", \"value\":\"education_level\"}, axis=1)\n",
    "          .eval(\"income = 4 + 3 * education_level + ability\")\n",
    "          .assign(income = lambda df: df[\"income\"] + np.random.normal(0,noise_sd,n_people*n_years))\n",
    "         )"
   ]
  },
  {
   "cell_type": "code",
   "execution_count": 6,
   "metadata": {},
   "outputs": [
    {
     "data": {
      "text/html": [
       "<div>\n",
       "<style scoped>\n",
       "    .dataframe tbody tr th:only-of-type {\n",
       "        vertical-align: middle;\n",
       "    }\n",
       "\n",
       "    .dataframe tbody tr th {\n",
       "        vertical-align: top;\n",
       "    }\n",
       "\n",
       "    .dataframe thead th {\n",
       "        text-align: right;\n",
       "    }\n",
       "</style>\n",
       "<table border=\"1\" class=\"dataframe\">\n",
       "  <thead>\n",
       "    <tr style=\"text-align: right;\">\n",
       "      <th></th>\n",
       "      <th>person</th>\n",
       "      <th>ability</th>\n",
       "      <th>pca</th>\n",
       "      <th>noise</th>\n",
       "      <th>factor</th>\n",
       "      <th>year</th>\n",
       "      <th>education_level</th>\n",
       "      <th>income</th>\n",
       "    </tr>\n",
       "  </thead>\n",
       "  <tbody>\n",
       "    <tr>\n",
       "      <th>0</th>\n",
       "      <td>0</td>\n",
       "      <td>3</td>\n",
       "      <td>-0.946288</td>\n",
       "      <td>-0.269890</td>\n",
       "      <td>-0.069749</td>\n",
       "      <td>1990</td>\n",
       "      <td>5</td>\n",
       "      <td>22.0</td>\n",
       "    </tr>\n",
       "    <tr>\n",
       "      <th>1</th>\n",
       "      <td>1</td>\n",
       "      <td>3</td>\n",
       "      <td>-10.041739</td>\n",
       "      <td>0.758900</td>\n",
       "      <td>-1.045307</td>\n",
       "      <td>1990</td>\n",
       "      <td>3</td>\n",
       "      <td>16.0</td>\n",
       "    </tr>\n",
       "    <tr>\n",
       "      <th>2</th>\n",
       "      <td>2</td>\n",
       "      <td>3</td>\n",
       "      <td>-3.073523</td>\n",
       "      <td>1.209119</td>\n",
       "      <td>-0.455291</td>\n",
       "      <td>1990</td>\n",
       "      <td>4</td>\n",
       "      <td>19.0</td>\n",
       "    </tr>\n",
       "    <tr>\n",
       "      <th>3</th>\n",
       "      <td>3</td>\n",
       "      <td>5</td>\n",
       "      <td>0.644646</td>\n",
       "      <td>0.612017</td>\n",
       "      <td>0.154519</td>\n",
       "      <td>1990</td>\n",
       "      <td>6</td>\n",
       "      <td>27.0</td>\n",
       "    </tr>\n",
       "    <tr>\n",
       "      <th>4</th>\n",
       "      <td>4</td>\n",
       "      <td>3</td>\n",
       "      <td>-5.430591</td>\n",
       "      <td>0.116214</td>\n",
       "      <td>-0.610194</td>\n",
       "      <td>1990</td>\n",
       "      <td>1</td>\n",
       "      <td>10.0</td>\n",
       "    </tr>\n",
       "  </tbody>\n",
       "</table>\n",
       "</div>"
      ],
      "text/plain": [
       "  person  ability        pca     noise    factor  year  education_level  \\\n",
       "0      0        3  -0.946288 -0.269890 -0.069749  1990                5   \n",
       "1      1        3 -10.041739  0.758900 -1.045307  1990                3   \n",
       "2      2        3  -3.073523  1.209119 -0.455291  1990                4   \n",
       "3      3        5   0.644646  0.612017  0.154519  1990                6   \n",
       "4      4        3  -5.430591  0.116214 -0.610194  1990                1   \n",
       "\n",
       "   income  \n",
       "0    22.0  \n",
       "1    16.0  \n",
       "2    19.0  \n",
       "3    27.0  \n",
       "4    10.0  "
      ]
     },
     "execution_count": 6,
     "metadata": {},
     "output_type": "execute_result"
    }
   ],
   "source": [
    "people_melted.head()"
   ]
  },
  {
   "cell_type": "markdown",
   "metadata": {},
   "source": [
    "### If we include ability, we should recover everything"
   ]
  },
  {
   "cell_type": "code",
   "execution_count": 7,
   "metadata": {},
   "outputs": [
    {
     "name": "stdout",
     "output_type": "stream",
     "text": [
      "                            OLS Regression Results                            \n",
      "==============================================================================\n",
      "Dep. Variable:                 income   R-squared:                       1.000\n",
      "Model:                            OLS   Adj. R-squared:                  1.000\n",
      "Method:                 Least Squares   F-statistic:                 3.220e+31\n",
      "Date:                Tue, 25 Jun 2019   Prob (F-statistic):               0.00\n",
      "Time:                        07:57:23   Log-Likelihood:                 8811.0\n",
      "No. Observations:                 300   AIC:                        -1.762e+04\n",
      "Df Residuals:                     297   BIC:                        -1.760e+04\n",
      "Df Model:                           2                                         \n",
      "Covariance Type:            nonrobust                                         \n",
      "===================================================================================\n",
      "                      coef    std err          t      P>|t|      [0.025      0.975]\n",
      "-----------------------------------------------------------------------------------\n",
      "Intercept           4.0000   6.78e-15    5.9e+14      0.000       4.000       4.000\n",
      "education_level     3.0000   4.72e-16   6.36e+15      0.000       3.000       3.000\n",
      "ability             1.0000   1.57e-15   6.37e+14      0.000       1.000       1.000\n",
      "==============================================================================\n",
      "Omnibus:                       25.368   Durbin-Watson:                   0.512\n",
      "Prob(Omnibus):                  0.000   Jarque-Bera (JB):               29.564\n",
      "Skew:                           0.762   Prob(JB):                     3.80e-07\n",
      "Kurtosis:                       3.209   Cond. No.                         33.9\n",
      "==============================================================================\n",
      "\n",
      "Warnings:\n",
      "[1] Standard Errors assume that the covariance matrix of the errors is correctly specified.\n"
     ]
    }
   ],
   "source": [
    "mod = smf.ols(\"income ~ education_level + ability\", data=people_melted)\n",
    "res = mod.fit()\n",
    "print(res.summary())"
   ]
  },
  {
   "cell_type": "markdown",
   "metadata": {},
   "source": [
    "### Since we don't observe ability, a naive regression will be biased"
   ]
  },
  {
   "cell_type": "code",
   "execution_count": 8,
   "metadata": {},
   "outputs": [
    {
     "name": "stdout",
     "output_type": "stream",
     "text": [
      "                            OLS Regression Results                            \n",
      "==============================================================================\n",
      "Dep. Variable:                 income   R-squared:                       0.994\n",
      "Model:                            OLS   Adj. R-squared:                  0.994\n",
      "Method:                 Least Squares   F-statistic:                 4.695e+04\n",
      "Date:                Tue, 25 Jun 2019   Prob (F-statistic):               0.00\n",
      "Time:                        07:57:23   Log-Likelihood:                -561.42\n",
      "No. Observations:                 300   AIC:                             1127.\n",
      "Df Residuals:                     298   BIC:                             1134.\n",
      "Df Model:                           1                                         \n",
      "Covariance Type:            nonrobust                                         \n",
      "===================================================================================\n",
      "                      coef    std err          t      P>|t|      [0.025      0.975]\n",
      "-----------------------------------------------------------------------------------\n",
      "Intercept           7.2770      0.163     44.579      0.000       6.956       7.598\n",
      "education_level     3.1642      0.015    216.676      0.000       3.135       3.193\n",
      "==============================================================================\n",
      "Omnibus:                        7.040   Durbin-Watson:                   1.462\n",
      "Prob(Omnibus):                  0.030   Jarque-Bera (JB):                7.163\n",
      "Skew:                           0.355   Prob(JB):                       0.0278\n",
      "Kurtosis:                       2.740   Cond. No.                         20.1\n",
      "==============================================================================\n",
      "\n",
      "Warnings:\n",
      "[1] Standard Errors assume that the covariance matrix of the errors is correctly specified.\n"
     ]
    }
   ],
   "source": [
    "mod = smf.ols(\"income ~ education_level\", data=people_melted)\n",
    "res = mod.fit()\n",
    "print(res.summary())"
   ]
  },
  {
   "cell_type": "markdown",
   "metadata": {},
   "source": [
    "### Fixed effects recovers the truth"
   ]
  },
  {
   "cell_type": "code",
   "execution_count": 14,
   "metadata": {},
   "outputs": [
    {
     "name": "stdout",
     "output_type": "stream",
     "text": [
      "             Mixed Linear Model Regression Results\n",
      "===============================================================\n",
      "Model:                MixedLM   Dependent Variable:   income   \n",
      "No. Observations:     300       Method:               REML     \n",
      "No. Groups:           100       Scale:                0.0000   \n",
      "Min. group size:      3         Likelihood:           1710.0173\n",
      "Max. group size:      3         Converged:            Yes      \n",
      "Mean group size:      3.0                                      \n",
      "---------------------------------------------------------------\n",
      "                Coef. Std.Err.      z       P>|z| [0.025 0.975]\n",
      "---------------------------------------------------------------\n",
      "Intercept       8.800    0.109       80.969 0.000  8.587  9.013\n",
      "education_level 3.000    0.000 15192666.200 0.000  3.000  3.000\n",
      "Group Var       1.181 7595.699                                 \n",
      "===============================================================\n",
      "\n"
     ]
    }
   ],
   "source": [
    "mod = smf.mixedlm(\"income ~ education_level\", data=people_melted, groups=people_melted[\"person\"])\n",
    "# mod = smf.ols(\"income ~ education_level + person\", data=people_melted)\n",
    "res = mod.fit()\n",
    "print(res.summary())"
   ]
  },
  {
   "cell_type": "markdown",
   "metadata": {},
   "source": [
    "### The deconfounder using PCA or factor analysis should also work"
   ]
  },
  {
   "cell_type": "code",
   "execution_count": 10,
   "metadata": {},
   "outputs": [
    {
     "name": "stdout",
     "output_type": "stream",
     "text": [
      "                            OLS Regression Results                            \n",
      "==============================================================================\n",
      "Dep. Variable:                 income   R-squared:                       0.997\n",
      "Model:                            OLS   Adj. R-squared:                  0.997\n",
      "Method:                 Least Squares   F-statistic:                 4.748e+04\n",
      "Date:                Tue, 25 Jun 2019   Prob (F-statistic):               0.00\n",
      "Time:                        07:57:24   Log-Likelihood:                -455.72\n",
      "No. Observations:                 300   AIC:                             917.4\n",
      "Df Residuals:                     297   BIC:                             928.6\n",
      "Df Model:                           2                                         \n",
      "Covariance Type:            nonrobust                                         \n",
      "===================================================================================\n",
      "                      coef    std err          t      P>|t|      [0.025      0.975]\n",
      "-----------------------------------------------------------------------------------\n",
      "Intercept           8.8180      0.145     60.805      0.000       8.533       9.103\n",
      "education_level     2.9981      0.014    213.826      0.000       2.970       3.026\n",
      "pca                 0.1907      0.011     17.431      0.000       0.169       0.212\n",
      "==============================================================================\n",
      "Omnibus:                        3.136   Durbin-Watson:                   1.844\n",
      "Prob(Omnibus):                  0.208   Jarque-Bera (JB):                3.037\n",
      "Skew:                           0.246   Prob(JB):                        0.219\n",
      "Kurtosis:                       3.000   Cond. No.                         26.9\n",
      "==============================================================================\n",
      "\n",
      "Warnings:\n",
      "[1] Standard Errors assume that the covariance matrix of the errors is correctly specified.\n"
     ]
    }
   ],
   "source": [
    "mod = smf.ols(\"income ~ education_level + pca\", data=people_melted)\n",
    "res = mod.fit()\n",
    "print(res.summary())"
   ]
  },
  {
   "cell_type": "code",
   "execution_count": 11,
   "metadata": {},
   "outputs": [
    {
     "name": "stdout",
     "output_type": "stream",
     "text": [
      "                            OLS Regression Results                            \n",
      "==============================================================================\n",
      "Dep. Variable:                 income   R-squared:                       0.996\n",
      "Model:                            OLS   Adj. R-squared:                  0.996\n",
      "Method:                 Least Squares   F-statistic:                 4.157e+04\n",
      "Date:                Tue, 25 Jun 2019   Prob (F-statistic):               0.00\n",
      "Time:                        07:57:24   Log-Likelihood:                -475.60\n",
      "No. Observations:                 300   AIC:                             957.2\n",
      "Df Residuals:                     297   BIC:                             968.3\n",
      "Df Model:                           2                                         \n",
      "Covariance Type:            nonrobust                                         \n",
      "===================================================================================\n",
      "                      coef    std err          t      P>|t|      [0.025      0.975]\n",
      "-----------------------------------------------------------------------------------\n",
      "Intercept           8.6905      0.154     56.329      0.000       8.387       8.994\n",
      "education_level     3.0118      0.015    202.132      0.000       2.982       3.041\n",
      "factor              1.4295      0.094     15.142      0.000       1.244       1.615\n",
      "==============================================================================\n",
      "Omnibus:                        6.600   Durbin-Watson:                   1.808\n",
      "Prob(Omnibus):                  0.037   Jarque-Bera (JB):                6.421\n",
      "Skew:                           0.351   Prob(JB):                       0.0403\n",
      "Kurtosis:                       3.146   Cond. No.                         27.4\n",
      "==============================================================================\n",
      "\n",
      "Warnings:\n",
      "[1] Standard Errors assume that the covariance matrix of the errors is correctly specified.\n"
     ]
    }
   ],
   "source": [
    "mod = smf.ols(\"income ~ education_level + factor\", data=people_melted)\n",
    "res = mod.fit()\n",
    "print(res.summary())"
   ]
  },
  {
   "cell_type": "markdown",
   "metadata": {},
   "source": [
    "### Using a unit-specific noise term shouldn't work"
   ]
  },
  {
   "cell_type": "code",
   "execution_count": 12,
   "metadata": {},
   "outputs": [
    {
     "name": "stdout",
     "output_type": "stream",
     "text": [
      "                            OLS Regression Results                            \n",
      "==============================================================================\n",
      "Dep. Variable:                 income   R-squared:                       0.994\n",
      "Model:                            OLS   Adj. R-squared:                  0.994\n",
      "Method:                 Least Squares   F-statistic:                 2.340e+04\n",
      "Date:                Tue, 25 Jun 2019   Prob (F-statistic):               0.00\n",
      "Time:                        07:57:24   Log-Likelihood:                -561.41\n",
      "No. Observations:                 300   AIC:                             1129.\n",
      "Df Residuals:                     297   BIC:                             1140.\n",
      "Df Model:                           2                                         \n",
      "Covariance Type:            nonrobust                                         \n",
      "===================================================================================\n",
      "                      coef    std err          t      P>|t|      [0.025      0.975]\n",
      "-----------------------------------------------------------------------------------\n",
      "Intercept           7.2759      0.164     44.256      0.000       6.952       7.599\n",
      "education_level     3.1642      0.015    215.593      0.000       3.135       3.193\n",
      "noise              -0.0061      0.099     -0.062      0.951      -0.202       0.189\n",
      "==============================================================================\n",
      "Omnibus:                        7.038   Durbin-Watson:                   1.462\n",
      "Prob(Omnibus):                  0.030   Jarque-Bera (JB):                7.165\n",
      "Skew:                           0.356   Prob(JB):                       0.0278\n",
      "Kurtosis:                       2.741   Cond. No.                         20.3\n",
      "==============================================================================\n",
      "\n",
      "Warnings:\n",
      "[1] Standard Errors assume that the covariance matrix of the errors is correctly specified.\n"
     ]
    }
   ],
   "source": [
    "mod = smf.ols(\"income ~ education_level + noise\", data=people_melted)\n",
    "res = mod.fit()\n",
    "print(res.summary())"
   ]
  },
  {
   "cell_type": "code",
   "execution_count": null,
   "metadata": {},
   "outputs": [],
   "source": []
  },
  {
   "cell_type": "code",
   "execution_count": null,
   "metadata": {},
   "outputs": [],
   "source": []
  }
 ],
 "metadata": {
  "kernelspec": {
   "display_name": "Python 3",
   "language": "python",
   "name": "python3"
  },
  "language_info": {
   "codemirror_mode": {
    "name": "ipython",
    "version": 3
   },
   "file_extension": ".py",
   "mimetype": "text/x-python",
   "name": "python",
   "nbconvert_exporter": "python",
   "pygments_lexer": "ipython3",
   "version": "3.7.0"
  }
 },
 "nbformat": 4,
 "nbformat_minor": 2
}
